{
 "cells": [
  {
   "cell_type": "code",
   "execution_count": 62,
   "metadata": {},
   "outputs": [],
   "source": [
    "from PIL import Image\n",
    "import numpy as np\n",
    "import copy"
   ]
  },
  {
   "cell_type": "code",
   "execution_count": 166,
   "metadata": {},
   "outputs": [],
   "source": [
    "def converges(c, MAX_ITERS):\n",
    "    c_ori = copy.deepcopy(c)\n",
    "    z = copy.deepcopy(c)\n",
    "    \n",
    "    mask = np.ones(len(c), dtype=\"bool\")\n",
    "    iters = np.ones(len(c))\n",
    "    \n",
    "    d1 = np.absolute(c-0.25)\n",
    "    d2 = np.absolute(c+1)\n",
    "    \n",
    "    a1 = np.where(d1 < (1-((np.real(c)-0.25)/(d1)))/2)[0]\n",
    "    iters[a1] = MAX_ITERS\n",
    "    mask[a1] = False\n",
    "    \n",
    "    a2 = np.where(d2 < 0.25)[0]\n",
    "    iters[a2] = MAX_ITERS\n",
    "    mask[a2] = False\n",
    "    \n",
    "    for i in range(MAX_ITERS):\n",
    "        a3 = np.where(np.absolute(z)>=2)[0]\n",
    "        mask[a3] = False\n",
    "        \n",
    "        a4 = np.where( (mask) & (np.absolute(z)<2) )[0]\n",
    "        iters[a4] = iters[a4] + 1\n",
    "        z[a4] = (z[a4]*z[a4])+c_ori[a4]\n",
    "        \n",
    "        if(not mask.any()):\n",
    "            break\n",
    "            \n",
    "    return iters\n",
    "\n",
    "def iter_to_color(iter, MAX_ITERS):\n",
    "    \n",
    "    \n",
    "    white = (255, 255, 255)\n",
    "    black = (0, 0, 0)\n",
    "    red = (255, 0, 0)\n",
    "    orange = (255, 100, 20)\n",
    "    yellow = (255, 255, 0)\n",
    "    green = (0, 255, 0)\n",
    "    light_blue = (0, 255, 255)\n",
    "    blue = (0, 0, 255)\n",
    "    pink = (255, 0, 255)\n",
    "    \n",
    "    all_colors = [orange, yellow, white, blue, black]\n",
    "    return all_colors[int((5*iter)/(MAX_ITERS+1))]"
   ]
  },
  {
   "cell_type": "code",
   "execution_count": 170,
   "metadata": {},
   "outputs": [
    {
     "ename": "MemoryError",
     "evalue": "",
     "output_type": "error",
     "traceback": [
      "\u001b[1;31m---------------------------------------------------------------------------\u001b[0m",
      "\u001b[1;31mMemoryError\u001b[0m                               Traceback (most recent call last)",
      "\u001b[1;32m<ipython-input-170-7872ba5df0e0>\u001b[0m in \u001b[0;36m<module>\u001b[1;34m\u001b[0m\n\u001b[0;32m      3\u001b[0m \u001b[0mMAX_ITERS\u001b[0m \u001b[1;33m=\u001b[0m \u001b[1;36m100\u001b[0m\u001b[1;33m\u001b[0m\u001b[1;33m\u001b[0m\u001b[0m\n\u001b[0;32m      4\u001b[0m \u001b[1;33m\u001b[0m\u001b[0m\n\u001b[1;32m----> 5\u001b[1;33m \u001b[0mimg\u001b[0m \u001b[1;33m=\u001b[0m \u001b[0mImage\u001b[0m\u001b[1;33m.\u001b[0m\u001b[0mnew\u001b[0m\u001b[1;33m(\u001b[0m\u001b[1;34m'RGB'\u001b[0m\u001b[1;33m,\u001b[0m \u001b[1;33m(\u001b[0m\u001b[0mwidth\u001b[0m\u001b[1;33m,\u001b[0m \u001b[0mheight\u001b[0m\u001b[1;33m)\u001b[0m\u001b[1;33m,\u001b[0m \u001b[1;34m'black'\u001b[0m\u001b[1;33m)\u001b[0m\u001b[1;33m\u001b[0m\u001b[1;33m\u001b[0m\u001b[0m\n\u001b[0m\u001b[0;32m      6\u001b[0m \u001b[0mpixels\u001b[0m \u001b[1;33m=\u001b[0m \u001b[0mimg\u001b[0m\u001b[1;33m.\u001b[0m\u001b[0mload\u001b[0m\u001b[1;33m(\u001b[0m\u001b[1;33m)\u001b[0m\u001b[1;33m\u001b[0m\u001b[1;33m\u001b[0m\u001b[0m\n\u001b[0;32m      7\u001b[0m \u001b[1;33m\u001b[0m\u001b[0m\n",
      "\u001b[1;32m~\\anaconda3\\lib\\site-packages\\PIL\\Image.py\u001b[0m in \u001b[0;36mnew\u001b[1;34m(mode, size, color)\u001b[0m\n\u001b[0;32m   2611\u001b[0m         \u001b[0mim\u001b[0m\u001b[1;33m.\u001b[0m\u001b[0mpalette\u001b[0m \u001b[1;33m=\u001b[0m \u001b[0mImagePalette\u001b[0m\u001b[1;33m.\u001b[0m\u001b[0mImagePalette\u001b[0m\u001b[1;33m(\u001b[0m\u001b[1;33m)\u001b[0m\u001b[1;33m\u001b[0m\u001b[1;33m\u001b[0m\u001b[0m\n\u001b[0;32m   2612\u001b[0m         \u001b[0mcolor\u001b[0m \u001b[1;33m=\u001b[0m \u001b[0mim\u001b[0m\u001b[1;33m.\u001b[0m\u001b[0mpalette\u001b[0m\u001b[1;33m.\u001b[0m\u001b[0mgetcolor\u001b[0m\u001b[1;33m(\u001b[0m\u001b[0mcolor\u001b[0m\u001b[1;33m)\u001b[0m\u001b[1;33m\u001b[0m\u001b[1;33m\u001b[0m\u001b[0m\n\u001b[1;32m-> 2613\u001b[1;33m     \u001b[1;32mreturn\u001b[0m \u001b[0mim\u001b[0m\u001b[1;33m.\u001b[0m\u001b[0m_new\u001b[0m\u001b[1;33m(\u001b[0m\u001b[0mcore\u001b[0m\u001b[1;33m.\u001b[0m\u001b[0mfill\u001b[0m\u001b[1;33m(\u001b[0m\u001b[0mmode\u001b[0m\u001b[1;33m,\u001b[0m \u001b[0msize\u001b[0m\u001b[1;33m,\u001b[0m \u001b[0mcolor\u001b[0m\u001b[1;33m)\u001b[0m\u001b[1;33m)\u001b[0m\u001b[1;33m\u001b[0m\u001b[1;33m\u001b[0m\u001b[0m\n\u001b[0m\u001b[0;32m   2614\u001b[0m \u001b[1;33m\u001b[0m\u001b[0m\n\u001b[0;32m   2615\u001b[0m \u001b[1;33m\u001b[0m\u001b[0m\n",
      "\u001b[1;31mMemoryError\u001b[0m: "
     ]
    }
   ],
   "source": [
    "width, height = 40000, 40000\n",
    "# width, height = 1000, 1000\n",
    "MAX_ITERS = 100\n",
    "\n",
    "img = Image.new('RGB', (width, height), 'black')\n",
    "pixels = img.load()\n",
    "\n",
    "x_min, x_max = -2.1, 0.6\n",
    "y_min, y_max = -1.35, 1.35\n",
    "\n",
    "lc_x = (x_max-x_min)/width\n",
    "lc_y = (y_max-y_min)/height\n",
    "\n",
    "for i in range(width//2):\n",
    "    x_val1 = x_min+(lc_x*(2*i))\n",
    "    x_val2 = x_val1+lc_x\n",
    "    y_vals = (1j*np.arange(y_min, y_max, lc_y))\n",
    "    ones_array = np.ones(height, dtype='complex128')\n",
    "    a = (ones_array*x_val1)+y_vals\n",
    "    b = (ones_array*x_val2)+y_vals\n",
    "    c_vals = np.concatenate((a, b), axis=0)\n",
    "    #c_vals = (np.ones(height)*x_val)+(1j*np.arange(y_min, y_max, lc_y))\n",
    "    iters = converges(c_vals, MAX_ITERS)\n",
    "#     for j in range(height):\n",
    "#         pixels[i, j] = iter_to_color(iters[j], MAX_ITERS)\n",
    "\n",
    "img.save('mandelbrot_set.png')\n",
    "img.show()"
   ]
  },
  {
   "cell_type": "code",
   "execution_count": 3,
   "metadata": {},
   "outputs": [],
   "source": [
    "from PIL import Image\n",
    "Image.MAX_IMAGE_PIXELS = 1600000010\n",
    "# Open the original image\n",
    "original_image_path = r\"C:\\Users\\athar\\Downloads\\mandelbrot_set_40k.png\"\n",
    "grey_image_path = r\"C:\\Users\\athar\\Downloads\\mandelbrot_set_40k_grey.png\"\n",
    "\n",
    "image = Image.open(original_image_path)\n",
    "\n",
    "# Convert the image to grayscale\n",
    "gray_image = image.convert(\"L\")\n",
    "\n",
    "# Save the grayscale image\n",
    "gray_image.save(grey_image_path)"
   ]
  },
  {
   "cell_type": "code",
   "execution_count": 5,
   "metadata": {},
   "outputs": [],
   "source": [
    "original_image = Image.open(grey_image_path)\n",
    "\n",
    "# Get the dimensions of the original image\n",
    "width, height = original_image.size\n",
    "\n",
    "# Calculate the dimensions of each quarter\n",
    "quarter_width = width // 2\n",
    "quarter_height = height // 2\n",
    "\n",
    "# Define the coordinates for each quarter\n",
    "coordinates = [\n",
    "    (0, 0, quarter_width, quarter_height),\n",
    "    (quarter_width, 0, width, quarter_height),\n",
    "    (0, quarter_height, quarter_width, height),\n",
    "    (quarter_width, quarter_height, width, height)\n",
    "]\n",
    "\n",
    "# Create a list to store the four quarter images\n",
    "quarter_images = []\n",
    "\n",
    "# Crop each quarter and append to the list\n",
    "for coord in coordinates:\n",
    "    quarter = original_image.crop(coord)\n",
    "    quarter_images.append(quarter)\n",
    "\n",
    "# Save the quarter images\n",
    "for i, quarter in enumerate(quarter_images):\n",
    "    quarter.save(f\"quarter_{i+1}.png\")"
   ]
  }
 ],
 "metadata": {
  "kernelspec": {
   "display_name": "Python 3",
   "language": "python",
   "name": "python3"
  },
  "language_info": {
   "codemirror_mode": {
    "name": "ipython",
    "version": 3
   },
   "file_extension": ".py",
   "mimetype": "text/x-python",
   "name": "python",
   "nbconvert_exporter": "python",
   "pygments_lexer": "ipython3",
   "version": "3.8.3"
  }
 },
 "nbformat": 4,
 "nbformat_minor": 4
}
